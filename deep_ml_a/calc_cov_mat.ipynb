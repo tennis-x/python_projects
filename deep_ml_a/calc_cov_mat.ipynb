{
 "cells": [
  {
   "cell_type": "code",
   "execution_count": 28,
   "metadata": {},
   "outputs": [],
   "source": [
    "def calculate_covariance_matrix(vectors: list[list[float]]) -> list[list[float]]:    \n",
    "    number_of_vec = len(vectors)\n",
    "    length = len(vectors[0])\n",
    "    cov_mat = []\n",
    "    \n",
    "    for i in range(number_of_vec):\n",
    "        list = []\n",
    "        for j in range(number_of_vec):\n",
    "            sumx = 0\n",
    "            avg1 = int(sum(vectors[i])/len(vectors[i]))\n",
    "            avg2 = int(sum(vectors[j])/len(vectors[j]))\n",
    "            for k in range(length):\n",
    "                sumx += (vectors[i][k] - avg1) * (vectors[j][k])\n",
    "            list.append(sumx/ (length -1))\n",
    "        cov_mat.append(list)      \n",
    "    \n",
    "    return cov_mat"
   ]
  },
  {
   "cell_type": "code",
   "execution_count": 29,
   "metadata": {},
   "outputs": [
    {
     "name": "stdout",
     "output_type": "stream",
     "text": [
      "2\n",
      "2\n",
      "2\n",
      "2\n",
      "[[1.0, 1.0], [1.0, 1.0]]\n"
     ]
    }
   ],
   "source": [
    "#tests\n",
    "\n",
    "a = [[1,2,3],[4,5,6]]\n",
    "x = len(a)\n",
    "\n",
    "result = calculate_covariance_matrix(a)\n",
    "print(result)\n",
    "\n",
    "\n"
   ]
  }
 ],
 "metadata": {
  "kernelspec": {
   "display_name": "myproject_env",
   "language": "python",
   "name": "python3"
  },
  "language_info": {
   "codemirror_mode": {
    "name": "ipython",
    "version": 3
   },
   "file_extension": ".py",
   "mimetype": "text/x-python",
   "name": "python",
   "nbconvert_exporter": "python",
   "pygments_lexer": "ipython3",
   "version": "3.10.12"
  }
 },
 "nbformat": 4,
 "nbformat_minor": 2
}
