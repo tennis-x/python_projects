{
 "cells": [
  {
   "cell_type": "code",
   "execution_count": 30,
   "metadata": {},
   "outputs": [],
   "source": [
    "def matrix_dot_vector(a: list[list[int | float]], b: list[int | float]) -> list[int | float]:\n",
    "    columns_a = len(a[0]) if a else 0\n",
    "    rows_a = len(a)\n",
    "    \n",
    "    if columns_a != len(b):\n",
    "        return -1\n",
    "    else:\n",
    "        c = []\n",
    "        for i in range(rows_a):\n",
    "            sum = 0\n",
    "            for j in range(columns_a):\n",
    "                sum += a[i][j] * b[j]\n",
    "            c.append(sum)\n",
    "        return c"
   ]
  },
  {
   "cell_type": "code",
   "execution_count": 31,
   "metadata": {},
   "outputs": [
    {
     "name": "stdout",
     "output_type": "stream",
     "text": [
      "3 2\n",
      "[29, 80]\n"
     ]
    }
   ],
   "source": [
    "#tests\n",
    "a = [[1,2,3],[4,5,6]]\n",
    "b = [6,10,1]\n",
    "\n",
    "len_a = len(a[0]) if a else 0\n",
    "wid_a = len(a)\n",
    "print(len_a, wid_a)\n",
    "\n",
    "result = matrix_dot_vector(a,b)\n",
    "print(result)\n"
   ]
  }
 ],
 "metadata": {
  "kernelspec": {
   "display_name": "Python 3",
   "language": "python",
   "name": "python3"
  },
  "language_info": {
   "codemirror_mode": {
    "name": "ipython",
    "version": 3
   },
   "file_extension": ".py",
   "mimetype": "text/x-python",
   "name": "python",
   "nbconvert_exporter": "python",
   "pygments_lexer": "ipython3",
   "version": "3.10.12"
  }
 },
 "nbformat": 4,
 "nbformat_minor": 2
}
