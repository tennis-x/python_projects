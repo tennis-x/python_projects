{
 "cells": [
  {
   "cell_type": "code",
   "execution_count": 178,
   "metadata": {},
   "outputs": [],
   "source": [
    "import numpy as np\n",
    "def solve_jacobi(A: np.ndarray, b: np.ndarray, n: int) -> list:\n",
    "    len_b = len(b) \n",
    "    x = np.array([n] * len(b), dtype = float) #initial guess\n",
    "    row_A = len(A) #number of rows of matrix A \n",
    "    col_A = len(A[0])\n",
    "    count = 0\n",
    "    while count <11:\n",
    "        tmp_vec = np.array([0] * len(b), dtype = float)\n",
    "        for i in range(row_A):\n",
    "            sum_element = 0\n",
    "            for j in range(col_A):\n",
    "                if j != i:\n",
    "                    sum_element += A[i][j] * x[j]              #creating the total (j!=!) aijx[j] element of the algorith\n",
    "            element = (1 / A[i][i]) * (b[i] - sum_element)\n",
    "            tmp_vec[i] = float(round(element,4))\n",
    "        x = tmp_vec.copy()\n",
    "        print(x)\n",
    "        count += 1    \n",
    "    \n",
    "\n",
    "    return x"
   ]
  },
  {
   "cell_type": "code",
   "execution_count": 181,
   "metadata": {},
   "outputs": [
    {
     "name": "stdout",
     "output_type": "stream",
     "text": [
      "[ -8.6      2.2222   5.2857 -11.    ]\n",
      "[ 41.5175 -11.7873 -33.0603  76.6413]\n",
      "[-291.6439   77.3447  221.1439 -334.6257]\n",
      "[ 1236.5543  -381.8284 -1003.0744  2406.6057]\n",
      "[ -9177.5095   2395.6641   6939.635  -10124.852 ]\n",
      "[ 37293.6926 -11704.9031 -30446.553   75575.3828]\n",
      "[-288715.7606   74595.2567  217460.2231 -305379.2876]\n",
      "[1120878.9192 -357917.8353 -922033.7489 2378002.7945]\n",
      "[-9101958.2628  2325632.452   6825960.8242 -9173222.4319]\n",
      "[ 33527566.0139 -10927154.5151 -27831539.7405  74990369.0226]\n",
      "[-2.87633414e+08  7.25940914e+07  2.14685614e+08 -2.74197752e+08]\n",
      "[-2.87633414e+08  7.25940914e+07  2.14685614e+08 -2.74197752e+08]\n"
     ]
    }
   ],
   "source": [
    "A =[[5, -2, 3, 20], [-3, 9, 1, -7], [2, -1, -7, 19], [8,2,-1,1]]\n",
    "b = [-1,2,3,7]\n",
    "n=2\n",
    "\n",
    "z = solve_jacobi(A,b,n)\n",
    "print(z)"
   ]
  },
  {
   "cell_type": "code",
   "execution_count": 46,
   "metadata": {},
   "outputs": [
    {
     "name": "stdout",
     "output_type": "stream",
     "text": [
      "3\n",
      "[1, 6, 1]\n"
     ]
    }
   ],
   "source": [
    "print(len(A))\n",
    "\n",
    "A = [1,1,1]\n",
    "A[1] = 6 \n",
    "print(A)\n"
   ]
  },
  {
   "cell_type": "code",
   "execution_count": null,
   "metadata": {},
   "outputs": [],
   "source": [
    "#this is correct per comparison to everything here https://atozmath.com/"
   ]
  }
 ],
 "metadata": {
  "kernelspec": {
   "display_name": "myproject_env",
   "language": "python",
   "name": "python3"
  },
  "language_info": {
   "codemirror_mode": {
    "name": "ipython",
    "version": 3
   },
   "file_extension": ".py",
   "mimetype": "text/x-python",
   "name": "python",
   "nbconvert_exporter": "python",
   "pygments_lexer": "ipython3",
   "version": "3.10.12"
  }
 },
 "nbformat": 4,
 "nbformat_minor": 2
}
